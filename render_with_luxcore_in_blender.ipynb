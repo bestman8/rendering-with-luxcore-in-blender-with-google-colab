{
  "nbformat": 4,
  "nbformat_minor": 0,
  "metadata": {
    "colab": {
      "name": "render with luxcore.ipynb",
      "private_outputs": true,
      "provenance": [],
      "collapsed_sections": []
    },
    "kernelspec": {
      "name": "python3",
      "display_name": "Python 3"
    }
  },
  "cells": [
    {
      "cell_type": "markdown",
      "metadata": {
        "id": "KpHD9psW7jxO"
      },
      "source": [
        "#"
      ]
    },
    {
      "cell_type": "code",
      "metadata": {
        "id": "ldykR0fMftHt"
      },
      "source": [
        "#Download Blender from Repository\n",
        "!wget https://download.blender.org/release/Blender2.91/blender-2.91.0-linux64.tar.xz"
      ],
      "execution_count": null,
      "outputs": []
    },
    {
      "cell_type": "code",
      "metadata": {
        "id": "rQ-CKpS5hBFo"
      },
      "source": [
        "#Install Blender \n",
        "!tar xf blender-2.91.0-linux64.tar.xz"
      ],
      "execution_count": null,
      "outputs": []
    },
    {
      "cell_type": "code",
      "metadata": {
        "id": "Cbk0J6TYwvnQ"
      },
      "source": [
        "#Download some required libraries\n",
        "!apt install libboost-all-dev\n",
        "!apt install libgl1-mesa-dev"
      ],
      "execution_count": null,
      "outputs": []
    },
    {
      "cell_type": "code",
      "metadata": {
        "id": "h_E1kl9W4iV8"
      },
      "source": [
        "#Connect Google Drive\n",
        "from google.colab import drive\n",
        "drive.mount('/gdrive')"
      ],
      "execution_count": null,
      "outputs": []
    },
    {
      "cell_type": "code",
      "metadata": {
        "id": "78GUruiHFzlo"
      },
      "source": [
        "!sudo ./blender-2.91.0-linux64/blender -b --python '/gdrive/MyDrive/luxcore/install.py' "
      ],
      "execution_count": null,
      "outputs": []
    },
    {
      "cell_type": "code",
      "metadata": {
        "id": "AYLt4dk18KPS"
      },
      "source": [
        "filename = '/gdrive/MyDrive/causticoptimized.blend'"
      ],
      "execution_count": null,
      "outputs": []
    },
    {
      "cell_type": "code",
      "metadata": {
        "id": "_p77a65khTRB"
      },
      "source": [
        "!sudo ./blender-2.91.0-linux64/blender -b $filename -noaudio  -o '//image_####' -s 1 -e 2 -a -- "
      ],
      "execution_count": null,
      "outputs": []
    }
  ]
}